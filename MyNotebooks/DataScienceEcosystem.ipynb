{
 "cells": [
  {
   "cell_type": "markdown",
   "id": "ae4ead87",
   "metadata": {},
   "source": [
    "# Data Science Tools and Ecosystem"
   ]
  },
  {
   "cell_type": "markdown",
   "id": "403c9a40",
   "metadata": {},
   "source": [
    "In this notebook, Data Science Tools and Ecosystem are summarized."
   ]
  },
  {
   "cell_type": "markdown",
   "id": "14a8de20",
   "metadata": {},
   "source": [
    "Some of the popular languages that Data Scientists use are:<br>    1. Python<br>    2. R<br>    3. Julia"
   ]
  },
  {
   "cell_type": "markdown",
   "id": "14ed53e1",
   "metadata": {},
   "source": [
    "Some of the commonly used libraries used by Data Scientists include:<br>1. pandas<br>2. scikit<br>3. matplotlib<br>4. ggplot"
   ]
  },
  {
   "cell_type": "markdown",
   "id": "f86252a3",
   "metadata": {},
   "source": [
    "| Data Science Tools |\n",
    "| --- |\n",
    "| IBM Watson Studio |\n",
    "| TensorFlow |\n",
    "| Rstudio |"
   ]
  },
  {
   "cell_type": "markdown",
   "id": "751c5e54",
   "metadata": {},
   "source": [
    "### Below are a few examples of evaluating arithmetic expressions in Python"
   ]
  },
  {
   "cell_type": "code",
   "execution_count": 10,
   "id": "77ad4103",
   "metadata": {},
   "outputs": [
    {
     "data": {
      "text/plain": [
       "17"
      ]
     },
     "execution_count": 10,
     "metadata": {},
     "output_type": "execute_result"
    }
   ],
   "source": [
    "#This a simple arithmetic expression to mutiply then add integers\n",
    "(3*4)+5"
   ]
  },
  {
   "cell_type": "code",
   "execution_count": 11,
   "id": "ec7d1fe9",
   "metadata": {},
   "outputs": [
    {
     "data": {
      "text/plain": [
       "3.3333333333333335"
      ]
     },
     "execution_count": 11,
     "metadata": {},
     "output_type": "execute_result"
    }
   ],
   "source": [
    "#This will convert 200 minutes to hours by diving by 60\n",
    "200/60"
   ]
  },
  {
   "cell_type": "markdown",
   "id": "51ec2102",
   "metadata": {},
   "source": [
    "**Objectives:**\n",
    "- List popular languages for Data Science.\n",
    "- List Commonly used Data Science libraries.\n",
    "- List Data Science Tools."
   ]
  },
  {
   "cell_type": "markdown",
   "id": "f75b00c6",
   "metadata": {},
   "source": [
    "## Author\n",
    "Vijay Kumar S"
   ]
  },
  {
   "cell_type": "code",
   "execution_count": null,
   "id": "18024dbc",
   "metadata": {},
   "outputs": [],
   "source": []
  }
 ],
 "metadata": {
  "kernelspec": {
   "display_name": "Python 3 (ipykernel)",
   "language": "python",
   "name": "python3"
  },
  "language_info": {
   "codemirror_mode": {
    "name": "ipython",
    "version": 3
   },
   "file_extension": ".py",
   "mimetype": "text/x-python",
   "name": "python",
   "nbconvert_exporter": "python",
   "pygments_lexer": "ipython3",
   "version": "3.10.9"
  }
 },
 "nbformat": 4,
 "nbformat_minor": 5
}
